{
 "cells": [
  {
   "attachments": {},
   "cell_type": "markdown",
   "metadata": {},
   "source": [
    "# WizBee Playground\n",
    "\n",
    "## Embeddings\n",
    "\n",
    "Embeddings are saved into Redis database and this are used to find similar documents via KNN.\n",
    "\n",
    "### Load libraries and environment variables"
   ]
  },
  {
   "cell_type": "code",
   "execution_count": 12,
   "metadata": {},
   "outputs": [],
   "source": [
    "import json\n",
    "from dotenv import load_dotenv\n",
    "from os import getenv\n",
    "from langchain.embeddings.openai import OpenAIEmbeddings\n",
    "from langchain.vectorstores.redis import Redis\n",
    "\n",
    "load_dotenv()\n",
    "\n",
    "API = getenv('OPENAI_API_KEY')\n",
    "REDIS_PASSWORD = getenv('REDIS_PASSWORD')\n",
    "REDIS_URL = getenv('REDIS_URL')\n",
    "\n",
    "EMBEDDING_MODEL = \"text-embedding-ada-002\""
   ]
  },
  {
   "attachments": {},
   "cell_type": "markdown",
   "metadata": {},
   "source": [
    "### Load files and split into junks\n",
    "\n",
    "Files are stored in content folder and referenced in `references.json` with metadata."
   ]
  },
  {
   "cell_type": "code",
   "execution_count": null,
   "metadata": {},
   "outputs": [],
   "source": [
    "import utils.file as file\n",
    "\n",
    "references = json.load(open('references.json'))\n",
    "documents = []\n",
    "\n",
    "for ref in references:\n",
    "    docs = file.load_file(ref)\n",
    "    if(docs == None):\n",
    "        continue\n",
    "    documents.extend(docs)\n"
   ]
  },
  {
   "attachments": {},
   "cell_type": "markdown",
   "metadata": {},
   "source": [
    "### Create embeddings and save to database\n",
    "\n",
    "Careful you pay for the embeddings creation as we use the OpenAI API. The model needs to be same as when searching in vector store later."
   ]
  },
  {
   "cell_type": "code",
   "execution_count": 13,
   "metadata": {},
   "outputs": [],
   "source": [
    "embeddings = OpenAIEmbeddings(openai_api_key=API, model=EMBEDDING_MODEL)\n",
    "rds = Redis.from_documents(documents, embeddings, index_name='link', redis_url=\"redis://:\" + REDIS_PASSWORD + \"@\"+ REDIS_URL)"
   ]
  }
 ],
 "metadata": {
  "kernelspec": {
   "display_name": "base",
   "language": "python",
   "name": "python3"
  },
  "language_info": {
   "codemirror_mode": {
    "name": "ipython",
    "version": 3
   },
   "file_extension": ".py",
   "mimetype": "text/x-python",
   "name": "python",
   "nbconvert_exporter": "python",
   "pygments_lexer": "ipython3",
   "version": "3.9.16"
  },
  "orig_nbformat": 4
 },
 "nbformat": 4,
 "nbformat_minor": 2
}
