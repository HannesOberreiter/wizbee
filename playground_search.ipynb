{
 "cells": [
  {
   "attachments": {},
   "cell_type": "markdown",
   "metadata": {},
   "source": [
    "# WizBee Playground\n",
    "\n",
    "## Searching\n",
    "\n",
    "Search database for similar objects and ask OpenAI to generate a response.\n",
    "\n",
    "### Load libraries and environment variables"
   ]
  },
  {
   "cell_type": "code",
   "execution_count": 15,
   "metadata": {},
   "outputs": [],
   "source": [
    "from dotenv import load_dotenv\n",
    "from os import getenv\n",
    "from langchain.embeddings.openai import OpenAIEmbeddings\n",
    "from langchain.vectorstores.redis import Redis\n",
    "from langchain.llms import OpenAI\n",
    "from langchain.prompts import PromptTemplate\n",
    "from langchain import LLMChain\n",
    "\n",
    "\n",
    "load_dotenv()\n",
    "\n",
    "API = getenv('OPENAI_API_KEY')\n",
    "REDIS_PASSWORD = getenv('REDIS_PASSWORD')\n",
    "REDIS_URL = getenv('REDIS_URL')\n",
    "\n",
    "EMBEDDING_MODEL = \"text-embedding-ada-002\"\n",
    "\n",
    "embeddings = OpenAIEmbeddings(openai_api_key=API, model=EMBEDDING_MODEL)\n",
    "llm = OpenAI(temperature=0.1, openai_api_key=API)\n"
   ]
  },
  {
   "attachments": {},
   "cell_type": "markdown",
   "metadata": {},
   "source": [
    "### Content Redis\n",
    "\n",
    "Connect to Redis database and load content."
   ]
  },
  {
   "cell_type": "code",
   "execution_count": 7,
   "metadata": {},
   "outputs": [],
   "source": [
    "vector_db = Redis.from_existing_index(embeddings, redis_url=\"redis://:\" + REDIS_PASSWORD + \"@\"+ REDIS_URL, index_name='link')"
   ]
  },
  {
   "attachments": {},
   "cell_type": "markdown",
   "metadata": {},
   "source": [
    "### Create Template for OpenAI Chat\n",
    "\n",
    "Here you can improve can do prompt engineering."
   ]
  },
  {
   "cell_type": "code",
   "execution_count": 12,
   "metadata": {},
   "outputs": [],
   "source": [
    "template = \"\"\"You are a helpful bot which answers user question about b.tree a beekeeping software! Please answer the question based on the given context. The context could be from multiple references  which are separated by ;;; Answer the question using only that information. If you can't create a good answer with the references, say \"Sorry, we don't have any answers in our references stored for your question.\".\n",
    "\n",
    "Question: {query}\n",
    "\n",
    "Context: {context}\n",
    "\"\"\"\n",
    "\n",
    "prompt_template = PromptTemplate(\n",
    "    input_variables=[\"query\", \"context\"],\n",
    "    template=template\n",
    ")"
   ]
  },
  {
   "cell_type": "markdown",
   "metadata": {},
   "source": [
    "### Search Redis for a document"
   ]
  },
  {
   "cell_type": "code",
   "execution_count": 17,
   "metadata": {},
   "outputs": [
    {
     "name": "stdout",
     "output_type": "stream",
     "text": [
      "['title: b.tree First Steps\\ndescription: \"Documentation and Help for Beekeeping Software and Application\"\\nlayout: \"../../layouts/IndexLayout.astro\"\\nlang: \"en\"\\n\\nWhy should I use this app?\\n\\nThis web application was designed to help you keep track of the recent and past beekeeping tasks of your colonies. The basic idea was an easy record keeping tool, which is mandatory for european beekeepers when applying medications and to help fulfil the notation conditions (feeding, harvesting) for certified organic beekeepers. In addition, the collected data can be used as basis for statistical analysis of the beekeeping operation efficiency. As an example, one can compare the honey yield of apiaries or judge queens on their performance ratings.']\n"
     ]
    }
   ],
   "source": [
    "query = \"Why should I use b.tree?\"\n",
    "results = vector_db.similarity_search(query, k=1)\n",
    "\n",
    "context = []\n",
    "metadata = []\n",
    "for result in results:\n",
    "    context.append(result.page_content)\n",
    "    metadata.append(result.metadata)\n",
    "\n",
    "print(context)"
   ]
  },
  {
   "attachments": {},
   "cell_type": "markdown",
   "metadata": {},
   "source": [
    "### Ask OpenAI to generate a response"
   ]
  },
  {
   "cell_type": "code",
   "execution_count": 18,
   "metadata": {},
   "outputs": [
    {
     "data": {
      "text/plain": [
       "';;;\\n\\nb.tree is a great tool for beekeepers to help them keep track of their beekeeping tasks, fulfill notation conditions, and analyze their beekeeping operation efficiency. It provides an easy record keeping system, which is mandatory for European beekeepers when applying medications, and can be used to compare honey yield of apiaries or judge queens on their performance ratings. With b.tree, beekeepers can easily manage their colonies and get the most out of their beekeeping operations.'"
      ]
     },
     "execution_count": 18,
     "metadata": {},
     "output_type": "execute_result"
    }
   ],
   "source": [
    "context = \";;;\".join(context)\n",
    "question_chain = LLMChain(llm=llm, prompt=prompt_template)\n",
    "question_chain.run(query=query, context=context)\n"
   ]
  }
 ],
 "metadata": {
  "kernelspec": {
   "display_name": "wizbee.venv",
   "language": "python",
   "name": "python3"
  },
  "language_info": {
   "codemirror_mode": {
    "name": "ipython",
    "version": 3
   },
   "file_extension": ".py",
   "mimetype": "text/x-python",
   "name": "python",
   "nbconvert_exporter": "python",
   "pygments_lexer": "ipython3",
   "version": "3.9.16"
  },
  "orig_nbformat": 4
 },
 "nbformat": 4,
 "nbformat_minor": 2
}
